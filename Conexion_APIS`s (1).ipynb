{
 "cells": [
  {
   "cell_type": "markdown",
   "id": "92621767",
   "metadata": {},
   "source": [
    "# Conexion api (ipapi)"
   ]
  },
  {
   "cell_type": "code",
   "execution_count": 129,
   "id": "3100e662",
   "metadata": {},
   "outputs": [
    {
     "name": "stdout",
     "output_type": "stream",
     "text": [
      "Información de la IP:\n",
      "Ip: 161.185.160.93\n",
      "continent_code: NA\n",
      "continent_name: North America\n",
      "country_code: US\n",
      "country_name: United States\n",
      "region_code: NY\n",
      "region_name: New York\n",
      "zip: 11364\n",
      "city: Queens Village\n",
      "latitude: 40.74700927734375\n",
      "longitude: -73.75730895996094\n",
      "Los datos se han guardado en el archivo CSV: datos_api.csv\n"
     ]
    }
   ],
   "source": [
    "import requests\n",
    "import pandas as pd\n",
    "\n",
    "# Leer la clave de API desde el archivo\n",
    "with open(\"C:/Users/betoo/Downloads/clave_api.txt\", \"r\") as file:\n",
    "    access_key = file.read().strip()  # Lee la clave y elimina cualquier espacio en blanco\n",
    "\n",
    "# Definir la URL de la API\n",
    "url = \"http://api.ipapi.com/api/161.185.160.93\"\n",
    "\n",
    "# Configurar los parámetros de la solicitud con la clave de acceso\n",
    "params = {\n",
    "    \"access_key\": access_key\n",
    "}\n",
    "\n",
    "# Realizar la solicitud a la API\n",
    "response = requests.get(url, params=params)\n",
    "\n",
    "if response.status_code == 200:\n",
    "    data = response.json()\n",
    "    print(\"Información de la IP:\")\n",
    "    print(\"Ip:\", data.get(\"ip\"))\n",
    "    print(\"continent_code:\", data.get(\"continent_code\"))\n",
    "    print(\"continent_name:\", data.get(\"continent_name\"))\n",
    "    print(\"country_code:\", data.get(\"country_code\"))\n",
    "    print(\"country_name:\", data.get(\"country_name\"))\n",
    "    print(\"region_code:\", data.get(\"region_code\"))\n",
    "    print(\"region_name:\", data.get(\"region_name\"))\n",
    "    print(\"zip:\", data.get(\"zip\"))\n",
    "    print(\"city:\", data.get(\"city\"))\n",
    "    print(\"latitude:\", data.get(\"latitude\"))\n",
    "    print(\"longitude:\", data.get(\"longitude\"))\n",
    "    \n",
    "    nombre_archivo = \"datos_api.csv\"\n",
    "    df.to_csv(nombre_archivo, index=False)\n",
    "\n",
    "    print(f\"Los datos se han guardado en el archivo CSV: {nombre_archivo}\")\n",
    "else:\n",
    "    print(\"La solicitud a la API no fue exitosa. Código de estado:\", response.status_code)\n",
    "\n"
   ]
  },
  {
   "cell_type": "code",
   "execution_count": 131,
   "id": "26ca7dab",
   "metadata": {},
   "outputs": [
    {
     "name": "stdout",
     "output_type": "stream",
     "text": [
      "               ip  type continent_code continent_name country_code  \\\n",
      "0  161.185.160.93  ipv4             NA  North America           US   \n",
      "\n",
      "    country_name region_code region_name            city    zip   latitude  \\\n",
      "0  United States          NY    New York  Queens Village  11364  40.747009   \n",
      "\n",
      "   longitude                                           location  \n",
      "0 -73.757309  {'geoname_id': 5133271, 'capital': 'Washington...  \n",
      "Los datos se han guardado en el archivo CSV: datos_ip.csv\n"
     ]
    }
   ],
   "source": [
    "import requests\n",
    "import pandas as pd\n",
    "\n",
    "# Leer la clave de API desde el archivo\n",
    "with open(\"C:/Users/betoo/Downloads/clave_api.txt\", \"r\") as file:\n",
    "    access_key = file.read().strip()  # Lee la clave y elimina cualquier espacio en blanco\n",
    "\n",
    "# Definir la URL de la API\n",
    "url = \"http://api.ipapi.com/api/161.185.160.93\"\n",
    "\n",
    "# Configurar los parámetros de la solicitud con la clave de acceso\n",
    "params = {\n",
    "    \"access_key\": access_key\n",
    "}\n",
    "\n",
    "# Realizar la solicitud a la API\n",
    "response = requests.get(url, params=params)\n",
    "\n",
    "if response.status_code == 200:\n",
    "    data = response.json()\n",
    "\n",
    "    # Crear un DataFrame de pandas a partir de los datos\n",
    "    df = pd.DataFrame([data])\n",
    "    print(df)\n",
    "\n",
    "    # Guardar el DataFrame en un archivo CSV\n",
    "    nombre_archivo = \"datos_ip.csv\"\n",
    "    df.to_csv(nombre_archivo, index=False)\n",
    "\n",
    "    print(f\"Los datos se han guardado en el archivo CSV: {nombre_archivo}\")\n",
    "else:\n",
    "    print(\"La solicitud a la API no fue exitosa. Código de estado:\", response.status_code)\n"
   ]
  },
  {
   "cell_type": "code",
   "execution_count": 40,
   "id": "b282f531",
   "metadata": {},
   "outputs": [
    {
     "name": "stdout",
     "output_type": "stream",
     "text": [
      "Requirement already satisfied: psycopg2 in c:\\users\\betoo\\anaconda3\\lib\\site-packages (2.9.9)\n"
     ]
    }
   ],
   "source": [
    "!pip install psycopg2\n"
   ]
  },
  {
   "cell_type": "markdown",
   "id": "3f49f6b0",
   "metadata": {},
   "source": [
    "# Conexion a Redshift"
   ]
  },
  {
   "cell_type": "code",
   "execution_count": 118,
   "id": "1a3ecf42",
   "metadata": {},
   "outputs": [],
   "source": [
    "import psycopg2\n",
    "\n",
    "url=\"data-engineer-cluster.cyhh5bfevlmn.us-east-1.redshift.amazonaws\"\n",
    "data_base=\"data-engineer-database\"\n",
    "user=\"betooosao78_coderhouse\"\n",
    "with open(\"C:/Users/betoo/Downloads/contraseña.txt\",\"r\") as f:\n",
    "    pwd = f.read()"
   ]
  },
  {
   "cell_type": "code",
   "execution_count": 119,
   "id": "9e97ef82",
   "metadata": {},
   "outputs": [
    {
     "name": "stdout",
     "output_type": "stream",
     "text": [
      "Connected to Redshift successfully!\n"
     ]
    }
   ],
   "source": [
    "\n",
    "try:\n",
    "    conn = psycopg2.connect(\n",
    "       host ='data-engineer-cluster.cyhh5bfevlmn.us-east-1.redshift.amazonaws.com',\n",
    "       dbname=data_base,\n",
    "       user=user,\n",
    "       password=pwd,\n",
    "       port='5439'\n",
    "    )\n",
    "    print(\"Connected to Redshift successfully!\")\n",
    "    \n",
    "except Exception as e:\n",
    "    print(\"Unable to conection to Redshift\")\n",
    "    print(e)"
   ]
  },
  {
   "cell_type": "code",
   "execution_count": 120,
   "id": "61b3c146",
   "metadata": {},
   "outputs": [
    {
     "data": {
      "text/plain": [
       "<connection object at 0x00000174DF39A460; dsn: 'user=betooosao78_coderhouse password=xxx dbname=data-engineer-database host=data-engineer-cluster.cyhh5bfevlmn.us-east-1.redshift.amazonaws.com port=5439', closed: 0>"
      ]
     },
     "execution_count": 120,
     "metadata": {},
     "output_type": "execute_result"
    }
   ],
   "source": [
    " conn"
   ]
  },
  {
   "cell_type": "raw",
   "id": "7c0699de",
   "metadata": {},
   "source": [
    "# CREATE TABLE data_ip (\n",
    "    ip VARCHAR(15),\n",
    "    hostname VARCHAR(255),\n",
    "    type VARCHAR(15),\n",
    "    continent_code VARCHAR(2),\n",
    "    continent_name VARCHAR(255),\n",
    "    country_code VARCHAR(2),\n",
    "    country_name VARCHAR(255),\n",
    "    region_code VARCHAR(5),\n",
    "    region_name VARCHAR(255),\n",
    "    city VARCHAR(255),\n",
    "    zip VARCHAR(15),\n",
    "    latitude NUMERIC,\n",
    "    longitude NUMERIC\n",
    ");"
   ]
  },
  {
   "cell_type": "markdown",
   "id": "4f2bde46",
   "metadata": {},
   "source": [
    "# Verificar que la tabla exista"
   ]
  },
  {
   "cell_type": "code",
   "execution_count": 121,
   "id": "40950a8b",
   "metadata": {},
   "outputs": [
    {
     "data": {
      "text/plain": [
       "[]"
      ]
     },
     "execution_count": 121,
     "metadata": {},
     "output_type": "execute_result"
    }
   ],
   "source": [
    "cur = conn.cursor()\n",
    "cur.execute(\"SELECT * FROM data_ip\")\n",
    "resultado = cur.fetchall()\n",
    "resultado"
   ]
  },
  {
   "cell_type": "code",
   "execution_count": null,
   "id": "2fc8946e",
   "metadata": {},
   "outputs": [],
   "source": []
  }
 ],
 "metadata": {
  "kernelspec": {
   "display_name": "Python 3 (ipykernel)",
   "language": "python",
   "name": "python3"
  },
  "language_info": {
   "codemirror_mode": {
    "name": "ipython",
    "version": 3
   },
   "file_extension": ".py",
   "mimetype": "text/x-python",
   "name": "python",
   "nbconvert_exporter": "python",
   "pygments_lexer": "ipython3",
   "version": "3.10.9"
  }
 },
 "nbformat": 4,
 "nbformat_minor": 5
}
