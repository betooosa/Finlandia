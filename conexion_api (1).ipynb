{
 "cells": [
  {
   "cell_type": "markdown",
   "id": "18f9ffd2",
   "metadata": {},
   "source": [
    "# Conexion api (ipapi)"
   ]
  },
  {
   "cell_type": "code",
   "execution_count": 51,
   "id": "2e802479",
   "metadata": {},
   "outputs": [
    {
     "data": {
      "text/plain": [
       "{'ip': '201.141.96.108',\n",
       " 'network': '201.141.96.0/20',\n",
       " 'version': 'IPv4',\n",
       " 'city': 'Mexico City',\n",
       " 'region': 'Mexico City',\n",
       " 'region_code': 'CMX',\n",
       " 'country': 'MX',\n",
       " 'country_name': 'Mexico',\n",
       " 'country_code': 'MX',\n",
       " 'country_code_iso3': 'MEX',\n",
       " 'country_capital': 'Mexico City',\n",
       " 'country_tld': '.mx',\n",
       " 'continent_code': 'NA',\n",
       " 'in_eu': False,\n",
       " 'postal': '03020',\n",
       " 'latitude': 19.4203,\n",
       " 'longitude': -99.1193,\n",
       " 'timezone': 'America/Mexico_City',\n",
       " 'utc_offset': '-0600',\n",
       " 'country_calling_code': '+52',\n",
       " 'currency': 'MXN',\n",
       " 'currency_name': 'Peso',\n",
       " 'languages': 'es-MX',\n",
       " 'country_area': 1972550.0,\n",
       " 'country_population': 126190788,\n",
       " 'asn': 'AS28548',\n",
       " 'org': 'Cablevision, S.A. de C.V.'}"
      ]
     },
     "execution_count": 51,
     "metadata": {},
     "output_type": "execute_result"
    }
   ],
   "source": [
    "import requests\n",
    "import pandas as pd\n",
    "url = \"https://ipapi.co/json/\"\n",
    "headers = {\"Accept-Encoding\": \"gzip, deflate\"}\n",
    "response = requests.get(url)\n",
    "data = response.json()\n",
    "data\n",
    "# Crear un DataFrame a partir del JSON\n",
    "#df = pd.DataFrame([data])\n",
    "\n",
    "# Mostrar el DataFrame\n",
    "#print(df)"
   ]
  },
  {
   "cell_type": "code",
   "execution_count": 40,
   "id": "78bfc3c0",
   "metadata": {},
   "outputs": [
    {
     "name": "stdout",
     "output_type": "stream",
     "text": [
      "Requirement already satisfied: psycopg2 in c:\\users\\betoo\\anaconda3\\lib\\site-packages (2.9.9)\n"
     ]
    }
   ],
   "source": [
    "!pip install psycopg2\n"
   ]
  },
  {
   "cell_type": "markdown",
   "id": "af747da2",
   "metadata": {},
   "source": [
    "# Conexion a Redshift"
   ]
  },
  {
   "cell_type": "code",
   "execution_count": 43,
   "id": "6a0ca13b",
   "metadata": {},
   "outputs": [
    {
     "name": "stdout",
     "output_type": "stream",
     "text": [
      "Connected to Redshift successfully!\n"
     ]
    }
   ],
   "source": [
    "import psycopg2\n",
    "\n",
    "url=\"data-engineer-cluster.cyhh5bfevlmn.us-east-1.redshift.amazonaws\"\n",
    "data_base=\"data-engineer-database\"\n",
    "user=\"betooosao78_coderhouse\"\n",
    "with open(\"C:/Users/betoo/Downloads/contraseña.txt\",\"r\") as f:\n",
    "    pwd = f.read()\n",
    "try:\n",
    "    conn = psycopg2.connect(\n",
    "       host ='data-engineer-cluster.cyhh5bfevlmn.us-east-1.redshift.amazonaws.com',\n",
    "       dbname=data_base,\n",
    "       user=user,\n",
    "       password=pwd,\n",
    "       port='5439'\n",
    "    )\n",
    "    print(\"Connected to Redshift successfully!\")\n",
    "    \n",
    "except Exception as e:\n",
    "    print(\"Unable to conection to Redshift\")\n",
    "    print(e)"
   ]
  }
 ],
 "metadata": {
  "kernelspec": {
   "display_name": "Python 3 (ipykernel)",
   "language": "python",
   "name": "python3"
  },
  "language_info": {
   "codemirror_mode": {
    "name": "ipython",
    "version": 3
   },
   "file_extension": ".py",
   "mimetype": "text/x-python",
   "name": "python",
   "nbconvert_exporter": "python",
   "pygments_lexer": "ipython3",
   "version": "3.10.9"
  }
 },
 "nbformat": 4,
 "nbformat_minor": 5
}
